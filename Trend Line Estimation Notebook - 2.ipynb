{
 "cells": [
  {
   "cell_type": "markdown",
   "metadata": {},
   "source": [
    "Code <span class=\"caret\"></span>\n",
    "\n",
    "-   <a href=\"#\" id=\"rmd-show-all-code\">Show All Code</a>\n",
    "-   <a href=\"#\" id=\"rmd-hide-all-code\">Hide All Code</a>\n",
    "-   \n",
    "-   <a href=\"#\" id=\"rmd-download-source\">Download Rmd</a>\n",
    "\n",
    "# R Notebook\n",
    "\n",
    "`{r} # Trend Line Estimation Notebook - 2: Quadratic Trend`\n",
    "\n",
    "Problem: Consider a data set that has years as time variable and\n",
    "population of a city as the dependent variable. The years are tabulated\n",
    "as 1911, 1921,…, 1991. For each year, the population (Million) is given\n",
    "as - 362, 361, 388, 428, 471, 549, 657, 660 and 781. Now fit a second-\n",
    "degree polynomial trend to data and plot it with actual population on\n",
    "same plot. Estimate the population of 2001\n",
    "\n",
    "`{r} # Constructing the data set t = seq(1911, 1991, 10) n = length(t) t;n`\n",
    "\n",
    "`{r} # Shifting Origin and scalling data for ease of use xt = (t-1951)/10 xt`\n",
    "\n",
    "`{r} # Consider the population independent variables yt = c(362, 361, 388, 428, 471, 549, 657, 660, 781) yt`\n",
    "\n",
    "`{r} # Fitting the Second Degree Trend Line lm(yt ~ xt + I(xt^2)) lm(yt ~ xt + I(xt^2))[['coefficients']] fittyt = lm(yt ~ xt + I(xt^2))[['fitted.values']];fittyt`\n",
    "\n",
    "`{r} # Shifting Origin and scalling data for ease of use for 2001 pxt = (2001-1951)/10 pxt`\n",
    "\n",
    "`{r} # Calculating Population in 2001 pop = 483.08658 + (53.86667 * pxt) + (5.15368 * pxt^2) pop`\n",
    "\n",
    "`{r} # Plotting Fitted Values with Actual Values in a same plot area plot(t, yt, type = 'l', lty = 1, col = 'black', xlim = c(1911,1991), lwd = 2, main = 'Fitted Values Line') lines(t, fittyt, type = 'l', lty = 2, col = 'red', lwd = 2) legend('bottomleft', lty = c(1,2), col = c('black', 'red'), legend = c('Actual_Value', 'Fitted_Values'))`\n",
    "\n",
    "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"
   ],
   "id": "42a14256-91c8-446e-92a7-ab6bf11055d3"
  }
 ],
 "nbformat": 4,
 "nbformat_minor": 5,
 "metadata": {}
}
